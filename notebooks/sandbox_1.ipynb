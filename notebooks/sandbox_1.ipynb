{
 "cells": [
  {
   "cell_type": "code",
   "execution_count": 1,
   "metadata": {},
   "outputs": [
    {
     "name": "stdout",
     "output_type": "stream",
     "text": [
      "John Doe\n",
      "30\n",
      "New York\n",
      "John Doe\n",
      "35\n",
      "San Francisco\n"
     ]
    }
   ],
   "source": [
    "from dataclasses import dataclass\n",
    "\n",
    "# Define a dataclass\n",
    "@dataclass\n",
    "class Person:\n",
    "    name: str\n",
    "    age: int\n",
    "    city: str\n",
    "\n",
    "# Create an instance of the dataclass\n",
    "person = Person(\"John Doe\", 30, \"New York\")\n",
    "\n",
    "# Access the fields of the dataclass\n",
    "print(person.name)  # Output: John Doe\n",
    "print(person.age)   # Output: 30\n",
    "print(person.city)  # Output: New York\n",
    "\n",
    "# Update the fields of the dataclass\n",
    "person.age = 35\n",
    "person.city = \"San Francisco\"\n",
    "\n",
    "# Access the updated fields\n",
    "print(person.name)  # Output: John Doe\n",
    "print(person.age)   # Output: 35\n",
    "print(person.city)  # Output: San Francisco"
   ]
  }
 ],
 "metadata": {
  "kernelspec": {
   "display_name": "Python 3",
   "language": "python",
   "name": "python3"
  },
  "language_info": {
   "codemirror_mode": {
    "name": "ipython",
    "version": 3
   },
   "file_extension": ".py",
   "mimetype": "text/x-python",
   "name": "python",
   "nbconvert_exporter": "python",
   "pygments_lexer": "ipython3",
   "version": "3.10.8"
  },
  "orig_nbformat": 4
 },
 "nbformat": 4,
 "nbformat_minor": 2
}
